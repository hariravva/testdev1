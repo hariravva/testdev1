{
 "cells": [
  {
   "cell_type": "code",
   "execution_count": null,
   "id": "738574bb-f309-4c76-a35b-71c9e3ff57ca",
   "metadata": {},
   "outputs": [],
   "source": [
    "import os"
   ]
  },
  {
   "cell_type": "markdown",
   "id": "60f80b01-4d96-49dd-abde-978e942ac3d6",
   "metadata": {},
   "source": [
    "This is my first python notebook"
   ]
  }
 ],
 "metadata": {
  "kernelspec": {
   "display_name": "Python 3 (ipykernel)",
   "language": "python",
   "name": "python3"
  },
  "language_info": {
   "codemirror_mode": {
    "name": "ipython",
    "version": 3
   },
   "file_extension": ".py",
   "mimetype": "text/x-python",
   "name": "python",
   "nbconvert_exporter": "python",
   "pygments_lexer": "ipython3",
   "version": "3.12.1"
  }
 },
 "nbformat": 4,
 "nbformat_minor": 5
}
